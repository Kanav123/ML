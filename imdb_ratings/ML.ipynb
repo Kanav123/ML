{
 "cells": [
  {
   "cell_type": "code",
   "execution_count": 3,
   "metadata": {
    "collapsed": true
   },
   "outputs": [],
   "source": [
    "import pandas as pd\n",
    "import sklearn\n",
    "import numpy as np\n",
    "from sklearn.ensemble import RandomForestRegressor\n",
    "from sklearn.ensemble import ExtraTreesClassifier\n",
    "from sklearn.model_selection import KFold\n",
    "from sklearn.metrics import r2_score\n",
    "%matplotlib inline"
   ]
  },
  {
   "cell_type": "code",
   "execution_count": null,
   "metadata": {
    "collapsed": false
   },
   "outputs": [
    {
     "name": "stdout",
     "output_type": "stream",
     "text": [
      "0.584535178345\n"
     ]
    }
   ],
   "source": [
    "data = pd.read_csv(\"imdb_processed.csv\")\n",
    "y = data.pop('imdb_score')\n",
    "data.pop('movie_title')\n",
    "\n",
    "kf = KFold(n_splits=5)\n",
    "X = data.values\n",
    "y = y.values\n",
    "for train_indices, test_indices in kf.split(data):\n",
    "    rf = RandomForestRegressor(n_estimators=1000)\n",
    "    train_X = X[train_indices]; train_Y = y[train_indices]\n",
    "    test_X = X[test_indices]; test_Y = y[test_indices]\n",
    "    rf.fit(train_X, train_Y)\n",
    "    mse = np.mean((test_Y - rf.predict(test_X))**2)\n",
    "    print(r2_score(test_Y, rf.predict(test_X)))"
   ]
  },
  {
   "cell_type": "code",
   "execution_count": null,
   "metadata": {
    "collapsed": true
   },
   "outputs": [],
   "source": []
  }
 ],
 "metadata": {
  "kernelspec": {
   "display_name": "Python 3",
   "language": "python",
   "name": "python3"
  },
  "language_info": {
   "codemirror_mode": {
    "name": "ipython",
    "version": 3
   },
   "file_extension": ".py",
   "mimetype": "text/x-python",
   "name": "python",
   "nbconvert_exporter": "python",
   "pygments_lexer": "ipython3",
   "version": "3.5.2"
  }
 },
 "nbformat": 4,
 "nbformat_minor": 2
}
